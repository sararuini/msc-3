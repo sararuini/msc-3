{
 "cells": [
  {
   "cell_type": "code",
   "execution_count": null,
   "metadata": {},
   "outputs": [],
   "source": [
    "import pandas as pd\n",
    "import numpy as np\n",
    "import sys as sys\n",
    "import matplotlib.pyplot as plt\n",
    "%matplotlib inline\n",
    "#from surprise import SVD\n",
    "#from surprise.model_selection import cross_validate\n",
    "\n",
    "applications = pd.read_csv(\"./Wuzzuf_Applications_Sample.csv\")\n",
    "job_posts = pd.read_csv(\"./Wuzzuf_Job_Posts_Sample.csv\")\n"
   ]
  },
  {
   "cell_type": "code",
   "execution_count": 2,
   "metadata": {},
   "outputs": [
    {
     "data": {
      "text/html": [
       "<div>\n",
       "<style scoped>\n",
       "    .dataframe tbody tr th:only-of-type {\n",
       "        vertical-align: middle;\n",
       "    }\n",
       "\n",
       "    .dataframe tbody tr th {\n",
       "        vertical-align: top;\n",
       "    }\n",
       "\n",
       "    .dataframe thead th {\n",
       "        text-align: right;\n",
       "    }\n",
       "</style>\n",
       "<table border=\"1\" class=\"dataframe\">\n",
       "  <thead>\n",
       "    <tr style=\"text-align: right;\">\n",
       "      <th></th>\n",
       "      <th>id</th>\n",
       "      <th>user_id</th>\n",
       "      <th>job_id</th>\n",
       "      <th>app_date</th>\n",
       "    </tr>\n",
       "  </thead>\n",
       "  <tbody>\n",
       "    <tr>\n",
       "      <th>0</th>\n",
       "      <td>ba7b8f17</td>\n",
       "      <td>846d013c</td>\n",
       "      <td>516e4ed</td>\n",
       "      <td>2014-01-01 07:27:52</td>\n",
       "    </tr>\n",
       "    <tr>\n",
       "      <th>1</th>\n",
       "      <td>30e1ae86</td>\n",
       "      <td>9d5e32c5</td>\n",
       "      <td>516e4ed</td>\n",
       "      <td>2014-01-01 08:20:42</td>\n",
       "    </tr>\n",
       "    <tr>\n",
       "      <th>2</th>\n",
       "      <td>d829a6b7</td>\n",
       "      <td>eb26a291</td>\n",
       "      <td>516e4ed</td>\n",
       "      <td>2014-01-01 10:30:37</td>\n",
       "    </tr>\n",
       "    <tr>\n",
       "      <th>3</th>\n",
       "      <td>3f985f37</td>\n",
       "      <td>7b5e68a8</td>\n",
       "      <td>516e4ed</td>\n",
       "      <td>2014-01-01 10:55:07</td>\n",
       "    </tr>\n",
       "    <tr>\n",
       "      <th>4</th>\n",
       "      <td>27e1695</td>\n",
       "      <td>76fa79b1</td>\n",
       "      <td>516e4ed</td>\n",
       "      <td>2014-01-01 11:00:26</td>\n",
       "    </tr>\n",
       "  </tbody>\n",
       "</table>\n",
       "</div>"
      ],
      "text/plain": [
       "         id   user_id   job_id             app_date\n",
       "0  ba7b8f17  846d013c  516e4ed  2014-01-01 07:27:52\n",
       "1  30e1ae86  9d5e32c5  516e4ed  2014-01-01 08:20:42\n",
       "2  d829a6b7  eb26a291  516e4ed  2014-01-01 10:30:37\n",
       "3  3f985f37  7b5e68a8  516e4ed  2014-01-01 10:55:07\n",
       "4   27e1695  76fa79b1  516e4ed  2014-01-01 11:00:26"
      ]
     },
     "execution_count": 2,
     "metadata": {},
     "output_type": "execute_result"
    }
   ],
   "source": [
    "applications.head()"
   ]
  },
  {
   "cell_type": "code",
   "execution_count": 3,
   "metadata": {},
   "outputs": [
    {
     "data": {
      "text/html": [
       "<div>\n",
       "<style scoped>\n",
       "    .dataframe tbody tr th:only-of-type {\n",
       "        vertical-align: middle;\n",
       "    }\n",
       "\n",
       "    .dataframe tbody tr th {\n",
       "        vertical-align: top;\n",
       "    }\n",
       "\n",
       "    .dataframe thead th {\n",
       "        text-align: right;\n",
       "    }\n",
       "</style>\n",
       "<table border=\"1\" class=\"dataframe\">\n",
       "  <thead>\n",
       "    <tr style=\"text-align: right;\">\n",
       "      <th></th>\n",
       "      <th>id</th>\n",
       "      <th>city</th>\n",
       "      <th>job_title</th>\n",
       "      <th>job_category1</th>\n",
       "      <th>job_category2</th>\n",
       "      <th>job_category3</th>\n",
       "      <th>job_industry1</th>\n",
       "      <th>job_industry2</th>\n",
       "      <th>job_industry3</th>\n",
       "      <th>salary_minimum</th>\n",
       "      <th>salary_maximum</th>\n",
       "      <th>num_vacancies</th>\n",
       "      <th>career_level</th>\n",
       "      <th>experience_years</th>\n",
       "      <th>post_date</th>\n",
       "      <th>views</th>\n",
       "      <th>job_description</th>\n",
       "      <th>job_requirements</th>\n",
       "      <th>payment_period</th>\n",
       "      <th>currency</th>\n",
       "    </tr>\n",
       "  </thead>\n",
       "  <tbody>\n",
       "    <tr>\n",
       "      <th>0</th>\n",
       "      <td>516e4ed</td>\n",
       "      <td>Ciro</td>\n",
       "      <td>Sales &amp; Marketing Agent</td>\n",
       "      <td>Sales/Retail/Business Development</td>\n",
       "      <td>Marketing</td>\n",
       "      <td>Select</td>\n",
       "      <td>Telecommunications Services</td>\n",
       "      <td>Select</td>\n",
       "      <td>Select</td>\n",
       "      <td>2000</td>\n",
       "      <td>3500</td>\n",
       "      <td>8</td>\n",
       "      <td>Entry Level</td>\n",
       "      <td>0-1</td>\n",
       "      <td>2014-01-01 06:01:41</td>\n",
       "      <td>2602</td>\n",
       "      <td>&lt;p&gt;&lt;strong&gt;Qualifications&lt;/strong&gt;:&lt;br /&gt;&lt;br /...</td>\n",
       "      <td>NaN</td>\n",
       "      <td>Per Month</td>\n",
       "      <td>Egyptian Pound</td>\n",
       "    </tr>\n",
       "    <tr>\n",
       "      <th>1</th>\n",
       "      <td>a361ef59</td>\n",
       "      <td>Cairo</td>\n",
       "      <td>German Training Coordinator</td>\n",
       "      <td>Customer Service/Support</td>\n",
       "      <td>Administration</td>\n",
       "      <td>Human Resources</td>\n",
       "      <td>Translation and Localization</td>\n",
       "      <td>Business Services - Other</td>\n",
       "      <td>Education</td>\n",
       "      <td>1000</td>\n",
       "      <td>5000</td>\n",
       "      <td>8</td>\n",
       "      <td>Entry Level</td>\n",
       "      <td>0-2</td>\n",
       "      <td>2014-01-01 20:01:18</td>\n",
       "      <td>2213</td>\n",
       "      <td>&lt;p&gt;&amp;bull;Placing jobs' ads on various websites...</td>\n",
       "      <td>NaN</td>\n",
       "      <td>Per Month</td>\n",
       "      <td>Egyptian Pound</td>\n",
       "    </tr>\n",
       "    <tr>\n",
       "      <th>2</th>\n",
       "      <td>7226ce78</td>\n",
       "      <td>Cairo</td>\n",
       "      <td>Junior Software Developer</td>\n",
       "      <td>IT/Software Development</td>\n",
       "      <td>Select</td>\n",
       "      <td>Select</td>\n",
       "      <td>Computer Software</td>\n",
       "      <td>Select</td>\n",
       "      <td>Select</td>\n",
       "      <td>2000</td>\n",
       "      <td>2500</td>\n",
       "      <td>1</td>\n",
       "      <td>Entry Level</td>\n",
       "      <td>2</td>\n",
       "      <td>2014-01-02 11:01:03</td>\n",
       "      <td>2940</td>\n",
       "      <td>&lt;span style=\"text-decoration: underline;\"&gt;&lt;str...</td>\n",
       "      <td>NaN</td>\n",
       "      <td>Per Month</td>\n",
       "      <td>Egyptian Pound</td>\n",
       "    </tr>\n",
       "    <tr>\n",
       "      <th>3</th>\n",
       "      <td>f4b2bcd6</td>\n",
       "      <td>Cairo</td>\n",
       "      <td>Application Support Engineer</td>\n",
       "      <td>IT/Software Development</td>\n",
       "      <td>Select</td>\n",
       "      <td>Select</td>\n",
       "      <td>Telecommunications Services</td>\n",
       "      <td>Select</td>\n",
       "      <td>Select</td>\n",
       "      <td>2000</td>\n",
       "      <td>3500</td>\n",
       "      <td>1</td>\n",
       "      <td>Entry Level</td>\n",
       "      <td>1-2</td>\n",
       "      <td>2014-01-02 12:01:23</td>\n",
       "      <td>2042</td>\n",
       "      <td>&lt;strong&gt;&lt;span style=\"text-decoration: underlin...</td>\n",
       "      <td>NaN</td>\n",
       "      <td>Per Month</td>\n",
       "      <td>Egyptian Pound</td>\n",
       "    </tr>\n",
       "    <tr>\n",
       "      <th>4</th>\n",
       "      <td>3fee6f73</td>\n",
       "      <td>Alexandria</td>\n",
       "      <td>Electrical Maintenance Engineer</td>\n",
       "      <td>Engineering</td>\n",
       "      <td>Select</td>\n",
       "      <td>Select</td>\n",
       "      <td>Food and Beverage Production</td>\n",
       "      <td>Select</td>\n",
       "      <td>Select</td>\n",
       "      <td>5000</td>\n",
       "      <td>8000</td>\n",
       "      <td>1</td>\n",
       "      <td>Experienced (Non-Manager)</td>\n",
       "      <td>1-3</td>\n",
       "      <td>2014-01-21 13:45:56</td>\n",
       "      <td>5684</td>\n",
       "      <td>Job Title: Electrical Maintenance Engineer&lt;br ...</td>\n",
       "      <td>NaN</td>\n",
       "      <td>Per Month</td>\n",
       "      <td>Egyptian Pound</td>\n",
       "    </tr>\n",
       "  </tbody>\n",
       "</table>\n",
       "</div>"
      ],
      "text/plain": [
       "         id        city                        job_title  \\\n",
       "0   516e4ed        Ciro          Sales & Marketing Agent   \n",
       "1  a361ef59       Cairo     German Training Coordinator    \n",
       "2  7226ce78       Cairo       Junior Software Developer    \n",
       "3  f4b2bcd6       Cairo     Application Support Engineer   \n",
       "4  3fee6f73  Alexandria  Electrical Maintenance Engineer   \n",
       "\n",
       "                       job_category1   job_category2    job_category3  \\\n",
       "0  Sales/Retail/Business Development       Marketing           Select   \n",
       "1           Customer Service/Support  Administration  Human Resources   \n",
       "2            IT/Software Development          Select           Select   \n",
       "3            IT/Software Development          Select           Select   \n",
       "4                        Engineering          Select           Select   \n",
       "\n",
       "                     job_industry1              job_industry2 job_industry3  \\\n",
       "0      Telecommunications Services                     Select        Select   \n",
       "1  Translation and Localization     Business Services - Other     Education   \n",
       "2                Computer Software                     Select        Select   \n",
       "3      Telecommunications Services                     Select        Select   \n",
       "4     Food and Beverage Production                     Select        Select   \n",
       "\n",
       "   salary_minimum  salary_maximum  num_vacancies               career_level  \\\n",
       "0            2000            3500              8                Entry Level   \n",
       "1            1000            5000              8                Entry Level   \n",
       "2            2000            2500              1                Entry Level   \n",
       "3            2000            3500              1                Entry Level   \n",
       "4            5000            8000              1  Experienced (Non-Manager)   \n",
       "\n",
       "  experience_years            post_date  views  \\\n",
       "0              0-1  2014-01-01 06:01:41   2602   \n",
       "1              0-2  2014-01-01 20:01:18   2213   \n",
       "2                2  2014-01-02 11:01:03   2940   \n",
       "3              1-2  2014-01-02 12:01:23   2042   \n",
       "4              1-3  2014-01-21 13:45:56   5684   \n",
       "\n",
       "                                     job_description job_requirements  \\\n",
       "0  <p><strong>Qualifications</strong>:<br /><br /...              NaN   \n",
       "1  <p>&bull;Placing jobs' ads on various websites...              NaN   \n",
       "2  <span style=\"text-decoration: underline;\"><str...              NaN   \n",
       "3  <strong><span style=\"text-decoration: underlin...              NaN   \n",
       "4  Job Title: Electrical Maintenance Engineer<br ...              NaN   \n",
       "\n",
       "  payment_period        currency  \n",
       "0      Per Month  Egyptian Pound  \n",
       "1      Per Month  Egyptian Pound  \n",
       "2      Per Month  Egyptian Pound  \n",
       "3      Per Month  Egyptian Pound  \n",
       "4      Per Month  Egyptian Pound  "
      ]
     },
     "execution_count": 3,
     "metadata": {},
     "output_type": "execute_result"
    }
   ],
   "source": [
    "job_posts.head()"
   ]
  },
  {
   "cell_type": "code",
   "execution_count": 4,
   "metadata": {},
   "outputs": [
    {
     "data": {
      "text/plain": [
       "(21850, 20)"
      ]
     },
     "execution_count": 4,
     "metadata": {},
     "output_type": "execute_result"
    }
   ],
   "source": [
    "job_posts.shape"
   ]
  },
  {
   "cell_type": "code",
   "execution_count": 5,
   "metadata": {},
   "outputs": [
    {
     "data": {
      "text/plain": [
       "(1854190, 4)"
      ]
     },
     "execution_count": 5,
     "metadata": {},
     "output_type": "execute_result"
    }
   ],
   "source": [
    "applications.shape"
   ]
  },
  {
   "cell_type": "code",
   "execution_count": 6,
   "metadata": {},
   "outputs": [],
   "source": [
    "applications['app_date'] = pd.to_datetime(applications['app_date'])\n",
    "applications.index = applications['app_date']\n",
    "\n",
    "# now we don't need app_data column\n",
    "del applications[\"app_date\"]\n",
    "applications[\"count\"] = 1\n",
    "\n",
    "#source\n",
    "#https://www.kaggle.com/hireme/a-quick-look-into-the-data"
   ]
  },
  {
   "cell_type": "code",
   "execution_count": 7,
   "metadata": {},
   "outputs": [],
   "source": [
    "job_posts['post_date'] = pd.to_datetime(job_posts['post_date'])\n",
    "job_posts.index = job_posts['post_date']\n",
    "#source\n",
    "#https://www.kaggle.com/hireme/a-quick-look-into-the-data"
   ]
  },
  {
   "cell_type": "code",
   "execution_count": 8,
   "metadata": {},
   "outputs": [],
   "source": [
    "del job_posts[\"post_date\"] \n",
    "#source\n",
    "#https://www.kaggle.com/hireme/a-quick-look-into-the-data"
   ]
  },
  {
   "cell_type": "code",
   "execution_count": 4,
   "metadata": {},
   "outputs": [],
   "source": [
    "drop_cols = ['job_category2','job_category3','job_industry2','job_industry3']\n",
    "job_posts.drop(columns=drop_cols, axis=1, inplace=True)\n",
    "\n",
    "job_posts.rename(columns={'job_category1':'job_category', 'job_industry1':'job_industry'})\n",
    "#source \n",
    "#https://www.kaggle.com/hindamosh/cleaning-data"
   ]
  },
  {
   "cell_type": "code",
   "execution_count": null,
   "metadata": {},
   "outputs": [],
   "source": []
  },
  {
   "cell_type": "raw",
   "metadata": {},
   "source": [
    "from sklearn.feature_extraction.text import CountVectorizer\n",
    "from sklearn.metrics.pairwise import cosine_similarity\n",
    "from sklearn.feature_extraction.text import TfidfVectorizer\n",
    "\n",
    "import pickle\n",
    "import math\n",
    "from math import log"
   ]
  },
  {
   "cell_type": "raw",
   "metadata": {},
   "source": [
    "def my_normalise(m):\n",
    "    for i in range()"
   ]
  },
  {
   "cell_type": "markdown",
   "metadata": {},
   "source": [
    "Sources\n",
    "https://learning.oreilly.com/library/view/machine-learning-solutions/9781788390040/ch06s03.html\n",
    "\n",
    "Dataset:\n",
    "https://www.kaggle.com/WUZZUF/wuzzuf-job-posts"
   ]
  },
  {
   "cell_type": "code",
   "execution_count": null,
   "metadata": {},
   "outputs": [],
   "source": []
  }
 ],
 "metadata": {
  "kernelspec": {
   "display_name": "Python 3",
   "language": "python",
   "name": "python3"
  },
  "language_info": {
   "codemirror_mode": {
    "name": "ipython",
    "version": 3
   },
   "file_extension": ".py",
   "mimetype": "text/x-python",
   "name": "python",
   "nbconvert_exporter": "python",
   "pygments_lexer": "ipython3",
   "version": "3.7.3"
  }
 },
 "nbformat": 4,
 "nbformat_minor": 2
}
