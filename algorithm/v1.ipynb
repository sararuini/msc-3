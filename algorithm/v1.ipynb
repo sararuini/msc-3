{
 "cells": [
  {
   "cell_type": "code",
   "execution_count": 2,
   "metadata": {},
   "outputs": [],
   "source": [
    "import json"
   ]
  },
  {
   "cell_type": "code",
   "execution_count": 3,
   "metadata": {},
   "outputs": [
    {
     "ename": "SyntaxError",
     "evalue": "invalid syntax (<ipython-input-3-989b4514213c>, line 20)",
     "output_type": "error",
     "traceback": [
      "\u001b[0;36m  File \u001b[0;32m\"<ipython-input-3-989b4514213c>\"\u001b[0;36m, line \u001b[0;32m20\u001b[0m\n\u001b[0;31m    dictionary[\"contact\"] = str(opportunity['contact'])\u001b[0m\n\u001b[0m                          ^\u001b[0m\n\u001b[0;31mSyntaxError\u001b[0m\u001b[0;31m:\u001b[0m invalid syntax\n"
     ]
    }
   ],
   "source": [
    "opportunities = {}\n",
    "with open('dummy_data1_1.json') as json_file:\n",
    "    data = dict(json.load(json_file))\n",
    "    for opportunity in data['opportunities']:\n",
    "        oid = opportunity['oid']\n",
    "        contact = str(opportunity['contact'])\n",
    "        print(contact)\n",
    "        createdAt = opportunity['createdAt']\n",
    "        createdBy = opportunity['createdBy']\n",
    "        description = opportunity['description']\n",
    "        jobTags = opportunity['jobTags']\n",
    "        jobType = opportunity['jobType']\n",
    "        location = opportunity['location']\n",
    "        salary = opportunity['salary']\n",
    "        startingDate = opportunity['startingDate']\n",
    "        position = opportunity['position']\n",
    "        \n",
    "        \n",
    "        dictio = {\n",
    "            dictionary[\"contact\"] = str(opportunity['contact'])\n",
    "            dictionary[\"createdAt\"] = createdAt\n",
    "            dictionary[\"createdBy\"] = createdBy\n",
    "            dictionary[\"description\"] = description\n",
    "            dictionary[\"jobTags\"] = jobTags\n",
    "            dictionary[\"jobType\"] = jobType\n",
    "            dictionary[\"location\"] = location\n",
    "            dictionary[\"salary\"] = salary\n",
    "            dictionary[\"startingDate\"] = startingDate\n",
    "            dictionary[\"position\"] = position\n",
    "        }\n",
    "        \n",
    "        string_oid = str(oid)\n",
    "        \n",
    "        locals()[string_oid] = dictio\n",
    "        \n",
    "        opportunities = opportunities, string_oid\n",
    "\n",
    "print(opportunities)\n",
    "            "
   ]
  },
  {
   "cell_type": "code",
   "execution_count": null,
   "metadata": {},
   "outputs": [],
   "source": []
  },
  {
   "cell_type": "code",
   "execution_count": null,
   "metadata": {},
   "outputs": [],
   "source": []
  },
  {
   "cell_type": "code",
   "execution_count": null,
   "metadata": {},
   "outputs": [],
   "source": []
  }
 ],
 "metadata": {
  "kernelspec": {
   "display_name": "Python 3",
   "language": "python",
   "name": "python3"
  },
  "language_info": {
   "codemirror_mode": {
    "name": "ipython",
    "version": 3
   },
   "file_extension": ".py",
   "mimetype": "text/x-python",
   "name": "python",
   "nbconvert_exporter": "python",
   "pygments_lexer": "ipython3",
   "version": "3.7.3"
  }
 },
 "nbformat": 4,
 "nbformat_minor": 2
}
